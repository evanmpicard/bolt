{
 "cells": [
  {
   "cell_type": "code",
   "execution_count": 2,
   "metadata": {},
   "outputs": [],
   "source": [
    "import pandas as pd\n",
    "import requests\n",
    "from pandas.io.json import json_normalize\n",
    "import warnings\n",
    "import datetime\n",
    "import geocoder\n",
    "warnings.filterwarnings('ignore')\n"
   ]
  },
  {
   "cell_type": "code",
   "execution_count": 3,
   "metadata": {},
   "outputs": [],
   "source": [
    "url = 'http://overpass-api.de/api/interpreter'  # Overpass API URL\n"
   ]
  },
  {
   "cell_type": "code",
   "execution_count": 41,
   "metadata": {},
   "outputs": [],
   "source": [
    "cities_list = ['Yerevan, Armenia','Vienna, Austria','Baku, Azerbaijan','Ganja, Azerbaijan','Sumgayit, Azerbaijan','Minsk, Belarus','Dubrovnik, Croatia','Pula, Croatia','Rijeka, Croatia','Šibenik, Croatia','Split, Croatia','Zadar, Croatia','Zagreb, Croatia','Limassol, Cyprus','Nicosia, Cyprus','Prague, Czech Republic','Haapsalu, Estonia','Jõhvi, Estonia','Kohtla-Järve, Estonia','Kuressaare, Estonia','Narva, Estonia','Pärnu, Estonia','Rakvere, Estonia','Tallinn, Estonia','Tartu, Estonia','Viljandi, Estonia','Lyon, France','Paris, France','Batumi, Georgia','Kutaisi, Georgia','Tbilisi, Georgia','Accra, Ghana','Cape Coast, Ghana','Kumasi, Ghana','Takoradi, Ghana','Budapest, Hungary','Debrecen, Hungary','Pécs, Hungary','Baghdad, Iraq','Nur-Sultan, Kazakhstan','Diani, Kenya','Eldoret, Kenya','Embu, Kenya','Kakamega, Kenya','Karatina, Kenya','Kilifi, Kenya','Kisumu, Kenya','Kitale, Kenya','Malindi, Kenya','Meru, Kenya','Mombasa, Kenya','Nairobi, Kenya','Naivasha, Kenya','Nakuru, Kenya','Nanyuki, Kenya','Nyeri, Kenya','Thika, Kenya','Daugavpils, Latvia','Jelgava, Latvia','Liepāja, Latvia','Rīga, Latvia','Valmiera, Latvia','Ventspils, Latvia','Alytus, Lithuania','Kaunas, Lithuania','Klaipėda, Lithuania','Mažeikiai, Lithuania','Panevėžys, Lithuania','Šiauliai, Lithuania','Vilnius, Lithuania','Malta, Malta','Aguascalientes, Mexico','Cuernavaca, Mexico','Guadalajara, Mexico','Mexico City, Mexico','Monterrey, Mexico','Abeokuta, Nigeria','Abuja, Nigeria','Benin City, Nigeria','Calabar, Nigeria','Enugu, Nigeria','Ibadan, Nigeria','Kaduna, Nigeria','Kano, Nigeria','Lagos, Nigeria','Owerri, Nigeria','Port Harcourt, Nigeria','Uyo, Nigeria','Zaria, Nigeria','Białystok, Poland','Bielsko-Biała, Poland','Bydgoszcz, Poland','Częstochowa, Poland','Elbląg, Poland','Gorzów Wielkopolski, Poland','Kalisz, Poland','Kielce, Poland','Koszalin, Poland','Kraków, Poland','Legnica, Poland','Łódź, Poland','Lublin, Poland','Olsztyn, Poland','Opole, Poland','Płock, Poland','Poznań, Poland','Radom, Poland','Rzeszów, Poland','Silesia, Poland','Szczecin, Poland','Tarnów, Poland','Toruń, Poland','Trójmiasto, Poland','Wałbrzych, Poland','Warsaw, Poland','Włocławek, Poland','Wrocław, Poland','Zielona Góra, Poland','Algarve, Portugal','Aveiro, Portugal','Barcelos, Portugal','Braga, Portugal','Coimbra, Portugal','Evora, Portugal','Leiria, Portugal','Lisbon, Portugal','Madeira, Portugal','Porto, Portugal','Viseu, Portugal','Bucharest, Romania','Cluj-Napoca, Romania','Timisoara, Romania','Saint Petersburg, Russia','Jazan, Saudi Arabia','Riyadh, Saudi Arabia','Belgrade, Serbia','Banska Bystrica, Slovakia','Bratislava, Slovakia','Kosice, Slovakia','Nitra, Slovakia','Prešov, Slovakia','Trnava, Slovakia','Žilina, Slovakia','Cape Town, South Africa','Durban, South Africa','East London, South Africa','Emalahleni, South Africa','Ermelo, South Africa','Garden Route, South Africa','Grahamstown, South Africa','Johannesburg, South Africa','Kimberley, South Africa','Mbombela, South Africa','Mthatha, South Africa','Phuthaditjhaba, South Africa','Pietermaritzburg, South Africa','Polokwane, South Africa','Port Elizabeth, South Africa','Potchefstroom, South Africa','Pretoria, South Africa','Queenstown, South Africa','Rustenburg, South Africa','Thohoyandou, South Africa','Upington, South Africa','Welkom, South Africa','Madrid, Spain','Gothenburg, Sweden','Stockholm, Sweden','Tunis, Tunisia','Kampala, Uganda','Kharkiv, Ukraine','Kyiv, Ukraine','Lviv, Ukraine','Odesa, Ukraine','London, United Kingdom','Arusha, United Republic of Tanzania','Dar es Salaam, United Republic of Tanzania','Dodoma, United Republic of Tanzania','Mwanza, United Republic of Tanzania']"
   ]
  },
  {
   "cell_type": "code",
   "execution_count": 40,
   "metadata": {
    "scrolled": false
   },
   "outputs": [
    {
     "name": "stdout",
     "output_type": "stream",
     "text": [
      "{'accuracy': 0.7470254946139911, 'address': 'Երևան, Armenia', 'bbox': {'northeast': [40.26241, 44.6460194], 'southwest': [40.0656851, 44.4115546]}, 'city': 'Երևան', 'confidence': 1, 'country': 'Armenia', 'country_code': 'am', 'icon': 'https://nominatim.openstreetmap.org/images/mapicons/poi_boundary_administrative.p.20.png', 'importance': 0.7470254946139911, 'lat': 40.1776121, 'lng': 44.5125849, 'ok': True, 'osm_id': 364087, 'osm_type': 'relation', 'place_id': 235459230, 'place_rank': 7, 'quality': 'administrative', 'raw': {'place_id': 235459230, 'licence': 'Data © OpenStreetMap contributors, ODbL 1.0. https://osm.org/copyright', 'osm_type': 'relation', 'osm_id': 364087, 'boundingbox': ['40.0656851', '40.26241', '44.4115546', '44.6460194'], 'lat': '40.1776121', 'lon': '44.5125849', 'display_name': 'Երևան, Armenia', 'place_rank': 7, 'category': 'boundary', 'type': 'administrative', 'importance': 0.7470254946139911, 'icon': 'https://nominatim.openstreetmap.org/images/mapicons/poi_boundary_administrative.p.20.png', 'address': {'city': 'Երևան', 'country': 'Armenia', 'country_code': 'am'}}, 'status': 'OK', 'type': 'administrative'}\n",
      "[('Yerevan, Armenia', '2018-12-05')]\n"
     ]
    }
   ],
   "source": [
    "city_dates_list = list()\n",
    "for city in cities_list:\n",
    "    try:\n",
    "        g = geocoder.osm(city)\n",
    "        osm_type = g.json['osm_type']\n",
    "        if osm_type == 'relation':\n",
    "            osm_search_id = 3600000000 + int((g.json['osm_id']))\n",
    "        else:\n",
    "            osm_search_id = 2400000000 + int((g.json['osm_id']))\n",
    "        query = \"\"\"[out:json];area({})->.searchArea;(way[\"tourism\"=\"hotel\"](newer:\"2015-01-01T00:00:00Z\")(area.searchArea);way[\"aeroway\"=\"aerodrome\"](newer:\"2015-01-01T00:00:00Z\")(area.searchArea););out meta;\"\"\".format(osm_search_id)\n",
    "        query_results = requests.get(url, params={'data': query})\n",
    "        query_data = query_results.json()['elements']\n",
    "        query_df = json_normalize(query_data)\n",
    "        query_df_clipped = query_df[['id','tags.name','timestamp']]\n",
    "        query_df_clipped['date'] = pd.to_datetime(query_df_clipped.apply(lambda row: row['timestamp'].split('T')[0], axis = 1), infer_datetime_format=True)\n",
    "        query_df_clipped = query_df_clipped.drop('timestamp', axis = 1)\n",
    "        avg_edit_age = datetime.datetime.strftime(datetime.datetime.fromtimestamp(sum(map(datetime.datetime.timestamp,query_df_clipped['date']))/len(query_df_clipped['date'])),\"%Y-%m-%d\")\n",
    "        city_dates_list.append((city, avg_edit_age))\n",
    "    except:\n",
    "        pass"
   ]
  },
  {
   "cell_type": "code",
   "execution_count": 30,
   "metadata": {},
   "outputs": [],
   "source": [
    "city_Dates_df = pd.DataFrame(city_dates_list,columns=['city', 'avgEditDate'])"
   ]
  },
  {
   "cell_type": "code",
   "execution_count": 38,
   "metadata": {},
   "outputs": [
    {
     "data": {
      "text/html": [
       "<div>\n",
       "<style scoped>\n",
       "    .dataframe tbody tr th:only-of-type {\n",
       "        vertical-align: middle;\n",
       "    }\n",
       "\n",
       "    .dataframe tbody tr th {\n",
       "        vertical-align: top;\n",
       "    }\n",
       "\n",
       "    .dataframe thead th {\n",
       "        text-align: right;\n",
       "    }\n",
       "</style>\n",
       "<table border=\"1\" class=\"dataframe\">\n",
       "  <thead>\n",
       "    <tr style=\"text-align: right;\">\n",
       "      <th></th>\n",
       "      <th>city</th>\n",
       "      <th>avgEditDate</th>\n",
       "    </tr>\n",
       "  </thead>\n",
       "  <tbody>\n",
       "    <tr>\n",
       "      <td>88</td>\n",
       "      <td>Banska Bystrica, Slovakia</td>\n",
       "      <td>2016-06-08</td>\n",
       "    </tr>\n",
       "  </tbody>\n",
       "</table>\n",
       "</div>"
      ],
      "text/plain": [
       "                         city avgEditDate\n",
       "88  Banska Bystrica, Slovakia  2016-06-08"
      ]
     },
     "execution_count": 38,
     "metadata": {},
     "output_type": "execute_result"
    }
   ],
   "source": [
    "oldest = city_Dates_df.sort_values(['avgEditDate']).head(1)\n",
    "oldest"
   ]
  }
 ],
 "metadata": {
  "kernelspec": {
   "display_name": "Python 3",
   "language": "python",
   "name": "python3"
  },
  "language_info": {
   "codemirror_mode": {
    "name": "ipython",
    "version": 3
   },
   "file_extension": ".py",
   "mimetype": "text/x-python",
   "name": "python",
   "nbconvert_exporter": "python",
   "pygments_lexer": "ipython3",
   "version": "3.7.4"
  }
 },
 "nbformat": 4,
 "nbformat_minor": 2
}
